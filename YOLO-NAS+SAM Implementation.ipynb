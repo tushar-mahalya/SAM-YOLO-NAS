{
 "cells": [
  {
   "cell_type": "code",
   "execution_count": null,
   "id": "baae8b82-36d2-4d1b-af36-6ab4e6ccd030",
   "metadata": {},
   "outputs": [],
   "source": [
    "# For downloading the pre-trained weights of Segement Anything Model (SAM) (Size = 2.4 GB)\n",
    "# ! wget https://huggingface.co/spaces/abhishek/StableSAM/resolve/main/sam_vit_h_4b8939.pth\n",
    "\n",
    "# For downloading the pre-trained weights of YOLO-NAS (Large) trained on COCO dataset (Size = 256 MB)\n",
    "# ! wget https://sghub.deci.ai/models/yolo_nas_l_coco.pth"
   ]
  },
  {
   "cell_type": "code",
   "execution_count": 10,
   "id": "3c298ee6-334e-4580-bc3a-9f2962cfc47b",
   "metadata": {
    "tags": []
   },
   "outputs": [
    {
     "name": "stdout",
     "output_type": "stream",
     "text": [
      "PyTorch Version -  2.0.0.post200\n",
      "OpenCV Version -  4.7.0\n",
      "Device GPU -  Tesla T4\n"
     ]
    }
   ],
   "source": [
    "import torch\n",
    "import cv2\n",
    "print(\"PyTorch Version - \", torch.__version__)\n",
    "print(\"OpenCV Version - \", cv2.__version__)\n",
    "print(\"Device GPU - \", torch.cuda.get_device_name(0))"
   ]
  },
  {
   "cell_type": "code",
   "execution_count": null,
   "id": "2b05eb03-b175-40ce-b140-991bfabe7085",
   "metadata": {
    "tags": []
   },
   "outputs": [],
   "source": [
    "import numpy as np\n",
    "import matplotlib.pyplot as plt\n",
    "%matplotlib inline\n",
    "\n",
    "from src.plotting_utils import show_mask, show_points, show_box, show_anns"
   ]
  }
 ],
 "metadata": {
  "kernelspec": {
   "display_name": "tf-pytorch-gpu-310:Python",
   "language": "python",
   "name": "conda-env-tf-pytorch-gpu-310-py"
  },
  "language_info": {
   "codemirror_mode": {
    "name": "ipython",
    "version": 3
   },
   "file_extension": ".py",
   "mimetype": "text/x-python",
   "name": "python",
   "nbconvert_exporter": "python",
   "pygments_lexer": "ipython3",
   "version": "3.10.11"
  }
 },
 "nbformat": 4,
 "nbformat_minor": 5
}
