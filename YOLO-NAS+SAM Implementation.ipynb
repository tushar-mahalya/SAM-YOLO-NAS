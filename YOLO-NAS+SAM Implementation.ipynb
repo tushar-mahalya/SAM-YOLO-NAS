{
 "cells": [
  {
   "cell_type": "code",
   "execution_count": null,
   "id": "baae8b82-36d2-4d1b-af36-6ab4e6ccd030",
   "metadata": {},
   "outputs": [],
   "source": [
    "# For downloading the pre-trained weights of Segement Anything Model (SAM) (Size = 2.4 GB)\n",
    "# ! wget https://huggingface.co/spaces/abhishek/StableSAM/resolve/main/sam_vit_h_4b8939.pth\n",
    "\n",
    "# For downloading the pre-trained weights of YOLO-NAS (Large) trained on COCO dataset (Size = 256 MB)\n",
    "# ! wget https://sghub.deci.ai/models/yolo_nas_l_coco.pth"
   ]
  },
  {
   "cell_type": "code",
   "execution_count": 12,
   "id": "f4501732-7fad-448e-af61-ddc64be481a1",
   "metadata": {
    "tags": []
   },
   "outputs": [],
   "source": [
    "def show_mask(mask, ax, random_color=False):\n",
    "    if random_color:\n",
    "        color = np.concatenate([np.random.random(3), np.array([0.6])], axis=0)\n",
    "    else:\n",
    "        color = np.array([30/255, 144/255, 255/255, 0.6])\n",
    "    h, w = mask.shape[-2:]\n",
    "    mask_image = mask.reshape(h, w, 1) * color.reshape(1, 1, -1)\n",
    "    ax.imshow(mask_image)\n",
    "    \n",
    "def show_points(coords, labels, ax, marker_size=375):\n",
    "    pos_points = coords[labels==1]\n",
    "    neg_points = coords[labels==0]\n",
    "    ax.scatter(pos_points[:, 0], pos_points[:, 1], color='green', marker='*', s=marker_size, edgecolor='white', linewidth=1.25)\n",
    "    ax.scatter(neg_points[:, 0], neg_points[:, 1], color='red', marker='*', s=marker_size, edgecolor='white', linewidth=1.25)   \n",
    "    \n",
    "def show_box(box, ax):\n",
    "    x0, y0 = box[0], box[1]\n",
    "    w, h = box[2] - box[0], box[3] - box[1]\n",
    "    ax.add_patch(plt.Rectangle((x0, y0), w, h, edgecolor='green', facecolor=(0,0,0,0), lw=2))    \n",
    "    \n",
    "def show_anns(anns):\n",
    "    if len(anns) == 0:\n",
    "        return\n",
    "    sorted_anns = sorted(anns, key=(lambda x: x['area']), reverse=True)\n",
    "    ax = plt.gca()\n",
    "    ax.set_autoscale_on(False)\n",
    "    polygons = []\n",
    "    color = []\n",
    "    for ann in sorted_anns:\n",
    "        m = ann['segmentation']\n",
    "        img = np.ones((m.shape[0], m.shape[1], 3))\n",
    "        color_mask = np.random.random((1, 3)).tolist()[0]\n",
    "        for i in range(3):\n",
    "            img[:,:,i] = color_mask[i]\n",
    "        ax.imshow(np.dstack((img, m*0.35)))"
   ]
  },
  {
   "cell_type": "code",
   "execution_count": 10,
   "id": "3c298ee6-334e-4580-bc3a-9f2962cfc47b",
   "metadata": {
    "tags": []
   },
   "outputs": [
    {
     "name": "stdout",
     "output_type": "stream",
     "text": [
      "PyTorch Version -  2.0.0.post200\n",
      "OpenCV Version -  4.7.0\n",
      "Device GPU -  Tesla T4\n"
     ]
    }
   ],
   "source": [
    "import torch\n",
    "import cv2\n",
    "print(\"PyTorch Version - \", torch.__version__)\n",
    "print(\"OpenCV Version - \", cv2.__version__)\n",
    "print(\"Device GPU - \", torch.cuda.get_device_name(0))"
   ]
  },
  {
   "cell_type": "code",
   "execution_count": 11,
   "id": "2b05eb03-b175-40ce-b140-991bfabe7085",
   "metadata": {
    "tags": []
   },
   "outputs": [],
   "source": [
    "import numpy as np\n",
    "import matplotlib.pyplot as plt\n",
    "%matplotlib inline"
   ]
  }
 ],
 "metadata": {
  "kernelspec": {
   "display_name": "tf-pytorch-gpu-310:Python",
   "language": "python",
   "name": "conda-env-tf-pytorch-gpu-310-py"
  },
  "language_info": {
   "codemirror_mode": {
    "name": "ipython",
    "version": 3
   },
   "file_extension": ".py",
   "mimetype": "text/x-python",
   "name": "python",
   "nbconvert_exporter": "python",
   "pygments_lexer": "ipython3",
   "version": "3.10.11"
  }
 },
 "nbformat": 4,
 "nbformat_minor": 5
}
