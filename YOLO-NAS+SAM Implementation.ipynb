{
 "cells": [
  {
   "cell_type": "code",
   "execution_count": 2,
   "id": "baae8b82-36d2-4d1b-af36-6ab4e6ccd030",
   "metadata": {},
   "outputs": [],
   "source": [
    "# For downloading the pre-trained weights of Segement Anything Model (SAM) (Size = 2.4 GB)\n",
    "# ! wget https://huggingface.co/spaces/abhishek/StableSAM/resolve/main/sam_vit_h_4b8939.pth\n",
    "\n",
    "# For downloading the pre-trained weights of YOLO-NAS (Large) trained on COCO dataset (Size = 256 MB)\n",
    "# ! wget https://sghub.deci.ai/models/yolo_nas_l_coco.pth"
   ]
  },
  {
   "cell_type": "code",
   "execution_count": 3,
   "id": "3c298ee6-334e-4580-bc3a-9f2962cfc47b",
   "metadata": {
    "tags": []
   },
   "outputs": [
    {
     "ename": "AttributeError",
     "evalue": "module 'torch' has no attribute '__version__'",
     "output_type": "error",
     "traceback": [
      "\u001b[0;31m---------------------------------------------------------------------------\u001b[0m",
      "\u001b[0;31mAttributeError\u001b[0m                            Traceback (most recent call last)",
      "Cell \u001b[0;32mIn[3], line 3\u001b[0m\n\u001b[1;32m      1\u001b[0m \u001b[38;5;28;01mimport\u001b[39;00m \u001b[38;5;21;01mtorch\u001b[39;00m\n\u001b[1;32m      2\u001b[0m \u001b[38;5;28;01mimport\u001b[39;00m \u001b[38;5;21;01mcv2\u001b[39;00m\n\u001b[0;32m----> 3\u001b[0m \u001b[38;5;28mprint\u001b[39m(\u001b[38;5;124m\"\u001b[39m\u001b[38;5;124mPyTorch Version - \u001b[39m\u001b[38;5;124m\"\u001b[39m, \u001b[43mtorch\u001b[49m\u001b[38;5;241;43m.\u001b[39;49m\u001b[43m__version__\u001b[49m)\n\u001b[1;32m      4\u001b[0m \u001b[38;5;28mprint\u001b[39m(\u001b[38;5;124m\"\u001b[39m\u001b[38;5;124mOpenCV Version - \u001b[39m\u001b[38;5;124m\"\u001b[39m, cv2\u001b[38;5;241m.\u001b[39m__version__)\n\u001b[1;32m      5\u001b[0m \u001b[38;5;28mprint\u001b[39m(\u001b[38;5;124m\"\u001b[39m\u001b[38;5;124mDevice GPU - \u001b[39m\u001b[38;5;124m\"\u001b[39m, torch\u001b[38;5;241m.\u001b[39mcuda\u001b[38;5;241m.\u001b[39mget_device_name())\n",
      "\u001b[0;31mAttributeError\u001b[0m: module 'torch' has no attribute '__version__'"
     ]
    }
   ],
   "source": [
    "import torch\n",
    "import cv2\n",
    "print(\"PyTorch Version - \", torch.__version__)\n",
    "print(\"OpenCV Version - \", cv2.__version__)\n",
    "print(\"Device GPU - \", torch.cuda.get_device_name())"
   ]
  },
  {
   "cell_type": "code",
   "execution_count": null,
   "id": "2b05eb03-b175-40ce-b140-991bfabe7085",
   "metadata": {
    "tags": []
   },
   "outputs": [],
   "source": [
    "import os\n",
    "import numpy as np\n",
    "import matplotlib.pyplot as plt\n",
    "%matplotlib inline\n",
    "\n",
    "from src.visualizer_tools import PlottingUtils"
   ]
  },
  {
   "cell_type": "code",
   "execution_count": null,
   "id": "27bc696c-2a38-4ab1-bba2-a5a4ba132845",
   "metadata": {
    "tags": []
   },
   "outputs": [],
   "source": [
    "os.getcwd()"
   ]
  },
  {
   "cell_type": "code",
   "execution_count": null,
   "id": "90015c07-0056-45b5-b377-9661f98d77ed",
   "metadata": {
    "tags": []
   },
   "outputs": [],
   "source": [
    "os.listdir('/home/studio-lab-user/YOLO-NAS-and-SAM/assets/images')[:6]"
   ]
  },
  {
   "cell_type": "code",
   "execution_count": null,
   "id": "928e129d-a120-4b03-9b8b-1dcbf6902ed7",
   "metadata": {},
   "outputs": [],
   "source": [
    "import cv2\n",
    "import matplotlib.pyplot as plt\n",
    "\n",
    "# File paths of the six images\n",
    "image_paths = []\n",
    "for i in os.listdir('/home/studio-lab-user/YOLO-NAS-and-SAM/assets/images')[:6]:\n",
    "    image_paths.append('/home/studio-lab-user/YOLO-NAS-and-SAM/assets/images/' + i)"
   ]
  },
  {
   "cell_type": "code",
   "execution_count": null,
   "id": "b817893c-bf63-4c6d-ac85-a56d65d48abe",
   "metadata": {
    "tags": []
   },
   "outputs": [],
   "source": [
    "image_paths"
   ]
  },
  {
   "cell_type": "code",
   "execution_count": null,
   "id": "f2633083-874f-4a5a-b3e6-39d138f2dbf5",
   "metadata": {},
   "outputs": [],
   "source": [
    "# Visualizing sample images \n",
    "fig, axs = plt.subplots(2, 3, figsize=(12, 8))\n",
    "for i, (image_path, ax) in enumerate(zip(image_paths, axs.flat)):\n",
    "    image = cv2.imread(image_path)\n",
    "    image_rgb = cv2.cvtColor(image, cv2.COLOR_BGR2RGB)\n",
    "    ax.imshow(image_rgb)\n",
    "    ax.axis('off')\n",
    "    \n",
    "    file_name = image_path.split('/')[-1]\n",
    "    ax.set_title(file_name, fontsize=10, pad=10)\n",
    "    \n",
    "plt.tight_layout()\n",
    "plt.show()"
   ]
  },
  {
   "cell_type": "code",
   "execution_count": null,
   "id": "e72258bb-5e85-40c9-aeb2-d0ebc25532d6",
   "metadata": {},
   "outputs": [],
   "source": [
    "! pip install segment_anything\n",
    "from segment_anything import SamPredictor, sam_model_registry\n",
    "sam = sam_model_registry[\"vit_h\"](checkpoint=\"/home/studio-lab-user/YOLO-NAS-and-SAM/weights/sam_vit_h_4b8939.pth\")\n",
    "predictor = SamPredictor(sam)"
   ]
  },
  {
   "cell_type": "code",
   "execution_count": null,
   "id": "49f1fe11-eb4a-4a85-afad-2081295a0b0b",
   "metadata": {},
   "outputs": [],
   "source": []
  },
  {
   "cell_type": "code",
   "execution_count": null,
   "id": "e8c120dd-319d-4ec4-b383-c4addd871875",
   "metadata": {},
   "outputs": [],
   "source": []
  }
 ],
 "metadata": {
  "kernelspec": {
   "display_name": "pytorch-gpu-310:Python",
   "language": "python",
   "name": "conda-env-pytorch-gpu-310-py"
  },
  "language_info": {
   "codemirror_mode": {
    "name": "ipython",
    "version": 3
   },
   "file_extension": ".py",
   "mimetype": "text/x-python",
   "name": "python",
   "nbconvert_exporter": "python",
   "pygments_lexer": "ipython3",
   "version": "3.10.11"
  }
 },
 "nbformat": 4,
 "nbformat_minor": 5
}
